{
  "nbformat": 4,
  "nbformat_minor": 0,
  "metadata": {
    "colab": {
      "name": "Monday Week2 Quiz",
      "provenance": []
    },
    "kernelspec": {
      "name": "python3",
      "display_name": "Python 3"
    },
    "language_info": {
      "name": "python"
    }
  },
  "cells": [
    {
      "cell_type": "code",
      "execution_count": 7,
      "metadata": {
        "colab": {
          "base_uri": "https://localhost:8080/"
        },
        "id": "7-OX9uuEpGYF",
        "outputId": "3ac35f0d-872c-4e76-aab1-146bcba109d8"
      },
      "outputs": [
        {
          "output_type": "stream",
          "name": "stdout",
          "text": [
            "Enter the average score? 65\n",
            "You scored grade B\n"
          ]
        }
      ],
      "source": [
        "average_score = int(input(\"Enter the average score? \")) \n",
        "if average_score > 70 and average_score < 100:\n",
        "    print(\"Congrats ! you scored grade A\")\n",
        "elif average_score > 60 and average_score < 69:\n",
        "    print(\"You scored grade B\")\n",
        "elif average_score > 50 and average_score < 59:\n",
        "    print(\"You scored grade C\")\n",
        "elif average_score > 40 and average_score < 49:\n",
        "    print(\"You scored grade D\")\n",
        "elif average_score > 0 and average_score < 39:\n",
        "    print(\"Sorry you are fail! you scored grade E\")\n",
        "else:\n",
        "    print(\"Invalid average score\")"
      ]
    },
    {
      "cell_type": "code",
      "source": [
        "quantity_purchased = float(input(\"Enter the  quantity purchased \"))\n",
        "q = quantity_purchased\n",
        "\n",
        "cost_per_unit = 100\n",
        "c = cost_per_unit\n",
        "\n",
        "total_cost = c * q\n",
        "discount = float(0.1 * total_cost)\n",
        "amount_payable = total_cost - discount\n",
        "\n",
        "if total_cost > 1000:\n",
        "   print(\"You have received a discount\")\n",
        "   print(\"Amount payable =  \",amount_payable)\n"
      ],
      "metadata": {
        "colab": {
          "base_uri": "https://localhost:8080/"
        },
        "id": "dULvvmQUwfO1",
        "outputId": "2dd8e3c3-ce9b-4865-e544-99757055fd7f"
      },
      "execution_count": 12,
      "outputs": [
        {
          "output_type": "stream",
          "name": "stdout",
          "text": [
            "Enter the  quantity purchased 45\n",
            "You have received a discount\n",
            "Amount payable =   4050.0\n"
          ]
        }
      ]
    }
  ]
}